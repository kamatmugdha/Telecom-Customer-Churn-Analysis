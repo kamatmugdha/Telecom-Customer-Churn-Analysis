{
 "cells": [
  {
   "cell_type": "code",
   "execution_count": 1,
   "metadata": {
    "id": "0O-Bx04_ZfWN"
   },
   "outputs": [],
   "source": [
    "import pandas as pd\n",
    "import numpy as np\n",
    "import matplotlib.pyplot as plt\n",
    "import seaborn as sns"
   ]
  },
  {
   "cell_type": "code",
   "execution_count": 2,
   "metadata": {
    "id": "ShZSWVKRZfWQ"
   },
   "outputs": [],
   "source": [
    "df = pd.read_csv('Train.csv')"
   ]
  },
  {
   "cell_type": "code",
   "execution_count": 3,
   "metadata": {
    "colab": {
     "base_uri": "https://localhost:8080/"
    },
    "executionInfo": {
     "elapsed": 1999,
     "status": "ok",
     "timestamp": 1638757384691,
     "user": {
      "displayName": "Malar Pandian",
      "photoUrl": "https://lh3.googleusercontent.com/a-/AOh14Gg6ys-g_7W33ykd7dMjgJPuNP32EMcd1_mOD5QI_g=s64",
      "userId": "09417674361703451797"
     },
     "user_tz": 300
    },
    "id": "Ro_c2QD5KRPd",
    "outputId": "ddf2022a-6e3b-4216-a8f3-3a2c86e644e8"
   },
   "outputs": [
    {
     "data": {
      "text/plain": [
       "user_id           2154048\n",
       "REGION                 14\n",
       "TENURE                  8\n",
       "MONTANT              6540\n",
       "FREQUENCE_RECH        123\n",
       "REVENUE             38114\n",
       "ARPU_SEGMENT        16535\n",
       "FREQUENCE              91\n",
       "DATA_VOLUME         41550\n",
       "ON_NET               9884\n",
       "ORANGE               3167\n",
       "TIGO                 1315\n",
       "ZONE1                 612\n",
       "ZONE2                 486\n",
       "MRG                     1\n",
       "REGULARITY             62\n",
       "TOP_PACK              140\n",
       "FREQ_TOP_PACK         245\n",
       "CHURN                   2\n",
       "dtype: int64"
      ]
     },
     "execution_count": 3,
     "metadata": {},
     "output_type": "execute_result"
    }
   ],
   "source": [
    "df.nunique()"
   ]
  },
  {
   "cell_type": "markdown",
   "metadata": {
    "id": "Qu8dMqgwU13i"
   },
   "source": [
    "Customers are not repeated, MRG got only one value"
   ]
  },
  {
   "cell_type": "code",
   "execution_count": 4,
   "metadata": {
    "colab": {
     "base_uri": "https://localhost:8080/"
    },
    "executionInfo": {
     "elapsed": 541,
     "status": "ok",
     "timestamp": 1638757385222,
     "user": {
      "displayName": "Malar Pandian",
      "photoUrl": "https://lh3.googleusercontent.com/a-/AOh14Gg6ys-g_7W33ykd7dMjgJPuNP32EMcd1_mOD5QI_g=s64",
      "userId": "09417674361703451797"
     },
     "user_tz": 300
    },
    "id": "RbkqqXT5ZfWU",
    "outputId": "d382fac8-e0c5-4c4c-8840-b99859d46703"
   },
   "outputs": [
    {
     "data": {
      "text/plain": [
       "user_id                 0\n",
       "REGION             849299\n",
       "TENURE                  0\n",
       "MONTANT            756739\n",
       "FREQUENCE_RECH     756739\n",
       "REVENUE            726048\n",
       "ARPU_SEGMENT       726048\n",
       "FREQUENCE          726048\n",
       "DATA_VOLUME       1060433\n",
       "ON_NET             786675\n",
       "ORANGE             895248\n",
       "TIGO              1290016\n",
       "ZONE1             1984327\n",
       "ZONE2             2017224\n",
       "MRG                     0\n",
       "REGULARITY              0\n",
       "TOP_PACK           902594\n",
       "FREQ_TOP_PACK      902594\n",
       "CHURN                   0\n",
       "dtype: int64"
      ]
     },
     "execution_count": 4,
     "metadata": {},
     "output_type": "execute_result"
    }
   ],
   "source": [
    "#checking for null values\n",
    "df.isna().sum()"
   ]
  },
  {
   "cell_type": "code",
   "execution_count": 5,
   "metadata": {
    "colab": {
     "base_uri": "https://localhost:8080/"
    },
    "executionInfo": {
     "elapsed": 274,
     "status": "ok",
     "timestamp": 1638757385489,
     "user": {
      "displayName": "Malar Pandian",
      "photoUrl": "https://lh3.googleusercontent.com/a-/AOh14Gg6ys-g_7W33ykd7dMjgJPuNP32EMcd1_mOD5QI_g=s64",
      "userId": "09417674361703451797"
     },
     "user_tz": 300
    },
    "id": "YtyA_S1ZZfWU",
    "outputId": "5f94674d-e29d-4b17-fa82-b669768ba072"
   },
   "outputs": [
    {
     "name": "stdout",
     "output_type": "stream",
     "text": [
      "<class 'pandas.core.frame.DataFrame'>\n",
      "RangeIndex: 2154048 entries, 0 to 2154047\n",
      "Data columns (total 15 columns):\n",
      " #   Column          Dtype  \n",
      "---  ------          -----  \n",
      " 0   REGION          object \n",
      " 1   TENURE          object \n",
      " 2   MONTANT         float64\n",
      " 3   FREQUENCE_RECH  float64\n",
      " 4   REVENUE         float64\n",
      " 5   ARPU_SEGMENT    float64\n",
      " 6   FREQUENCE       float64\n",
      " 7   DATA_VOLUME     float64\n",
      " 8   ON_NET          float64\n",
      " 9   ORANGE          float64\n",
      " 10  TIGO            float64\n",
      " 11  REGULARITY      int64  \n",
      " 12  TOP_PACK        object \n",
      " 13  FREQ_TOP_PACK   float64\n",
      " 14  CHURN           int64  \n",
      "dtypes: float64(10), int64(2), object(3)\n",
      "memory usage: 246.5+ MB\n"
     ]
    }
   ],
   "source": [
    "#removing columns User_id(Adds no importance, all unique), ZONE1 and ZONE2(very less values present), MRG(contains only one value)\n",
    "drop_cols = ['user_id', 'ZONE1', 'ZONE2', 'MRG']\n",
    "df = df.drop(columns = drop_cols)\n",
    "df.info()"
   ]
  },
  {
   "cell_type": "code",
   "execution_count": 6,
   "metadata": {
    "id": "bpLgYmPWZfWV"
   },
   "outputs": [],
   "source": [
    "#deleting null in region\n",
    "#df = df[df['REGION'].notna()]\n",
    "\n",
    "#deleting null rows in MONTANT \n",
    "df = df[df[\"MONTANT\"].notna()]\n",
    "df = df[df[\"REVENUE\"].notna()]\n",
    "#df = df[df[\"TOP_PACK\"].notna()]\n",
    "df = df[df[\"DATA_VOLUME\"].notna()]\n",
    "df = df[df[\"TIGO\"].notna()]\n",
    "df = df[df[\"ON_NET\"].notna()]\n",
    "df = df[df[\"ORANGE\"].notna()]\n"
   ]
  },
  {
   "cell_type": "code",
   "execution_count": 7,
   "metadata": {
    "colab": {
     "base_uri": "https://localhost:8080/"
    },
    "executionInfo": {
     "elapsed": 8,
     "status": "ok",
     "timestamp": 1638757385931,
     "user": {
      "displayName": "Malar Pandian",
      "photoUrl": "https://lh3.googleusercontent.com/a-/AOh14Gg6ys-g_7W33ykd7dMjgJPuNP32EMcd1_mOD5QI_g=s64",
      "userId": "09417674361703451797"
     },
     "user_tz": 300
    },
    "id": "2dYiFeylLB2O",
    "outputId": "fc8eb548-efd3-4e4a-89fd-30fec40ce0da"
   },
   "outputs": [
    {
     "name": "stdout",
     "output_type": "stream",
     "text": [
      "536226\n",
      "0    523442\n",
      "1     12784\n",
      "Name: CHURN, dtype: int64\n",
      "40.94508760951189 : 1.0\n"
     ]
    }
   ],
   "source": [
    "print(len(df))\n",
    "vc = df.CHURN.value_counts()\n",
    "print(vc)\n",
    "print(vc[0]/vc[1],':',vc[1]/vc[1])"
   ]
  },
  {
   "cell_type": "markdown",
   "metadata": {
    "id": "THvIJ4IsQiQE"
   },
   "source": [
    "So 1 in 40 people are leaving"
   ]
  },
  {
   "cell_type": "code",
   "execution_count": 8,
   "metadata": {
    "colab": {
     "base_uri": "https://localhost:8080/"
    },
    "executionInfo": {
     "elapsed": 8,
     "status": "ok",
     "timestamp": 1638757386050,
     "user": {
      "displayName": "Malar Pandian",
      "photoUrl": "https://lh3.googleusercontent.com/a-/AOh14Gg6ys-g_7W33ykd7dMjgJPuNP32EMcd1_mOD5QI_g=s64",
      "userId": "09417674361703451797"
     },
     "user_tz": 300
    },
    "id": "bTAXSqIiZfWV",
    "outputId": "dd359cf8-e6a2-4de8-eb52-46f76e57b75f"
   },
   "outputs": [
    {
     "data": {
      "text/plain": [
       "REGION            89271\n",
       "TENURE                0\n",
       "MONTANT               0\n",
       "FREQUENCE_RECH        0\n",
       "REVENUE               0\n",
       "ARPU_SEGMENT          0\n",
       "FREQUENCE             0\n",
       "DATA_VOLUME           0\n",
       "ON_NET                0\n",
       "ORANGE                0\n",
       "TIGO                  0\n",
       "REGULARITY            0\n",
       "TOP_PACK          13348\n",
       "FREQ_TOP_PACK     13348\n",
       "CHURN                 0\n",
       "dtype: int64"
      ]
     },
     "execution_count": 8,
     "metadata": {},
     "output_type": "execute_result"
    }
   ],
   "source": [
    "df.isna().sum()"
   ]
  },
  {
   "cell_type": "code",
   "execution_count": 9,
   "metadata": {
    "colab": {
     "base_uri": "https://localhost:8080/",
     "height": 556
    },
    "executionInfo": {
     "elapsed": 117,
     "status": "ok",
     "timestamp": 1638757386162,
     "user": {
      "displayName": "Malar Pandian",
      "photoUrl": "https://lh3.googleusercontent.com/a-/AOh14Gg6ys-g_7W33ykd7dMjgJPuNP32EMcd1_mOD5QI_g=s64",
      "userId": "09417674361703451797"
     },
     "user_tz": 300
    },
    "id": "JUf34bUQRFWW",
    "outputId": "cc57513f-c98a-4e28-b770-d4246e81b75c"
   },
   "outputs": [
    {
     "data": {
      "text/html": [
       "<div>\n",
       "<style scoped>\n",
       "    .dataframe tbody tr th:only-of-type {\n",
       "        vertical-align: middle;\n",
       "    }\n",
       "\n",
       "    .dataframe tbody tr th {\n",
       "        vertical-align: top;\n",
       "    }\n",
       "\n",
       "    .dataframe thead th {\n",
       "        text-align: right;\n",
       "    }\n",
       "</style>\n",
       "<table border=\"1\" class=\"dataframe\">\n",
       "  <thead>\n",
       "    <tr style=\"text-align: right;\">\n",
       "      <th></th>\n",
       "      <th>REGION</th>\n",
       "      <th>TENURE</th>\n",
       "      <th>MONTANT</th>\n",
       "      <th>FREQUENCE_RECH</th>\n",
       "      <th>REVENUE</th>\n",
       "      <th>ARPU_SEGMENT</th>\n",
       "      <th>FREQUENCE</th>\n",
       "      <th>DATA_VOLUME</th>\n",
       "      <th>ON_NET</th>\n",
       "      <th>ORANGE</th>\n",
       "      <th>TIGO</th>\n",
       "      <th>REGULARITY</th>\n",
       "      <th>TOP_PACK</th>\n",
       "      <th>FREQ_TOP_PACK</th>\n",
       "      <th>CHURN</th>\n",
       "    </tr>\n",
       "  </thead>\n",
       "  <tbody>\n",
       "    <tr>\n",
       "      <th>0</th>\n",
       "      <td>FATICK</td>\n",
       "      <td>K &gt; 24 month</td>\n",
       "      <td>4250.0</td>\n",
       "      <td>15.0</td>\n",
       "      <td>4251.0</td>\n",
       "      <td>1417.0</td>\n",
       "      <td>17.0</td>\n",
       "      <td>4.0</td>\n",
       "      <td>388.0</td>\n",
       "      <td>46.0</td>\n",
       "      <td>1.0</td>\n",
       "      <td>54</td>\n",
       "      <td>On net 200F=Unlimited _call24H</td>\n",
       "      <td>8.0</td>\n",
       "      <td>0</td>\n",
       "    </tr>\n",
       "    <tr>\n",
       "      <th>3</th>\n",
       "      <td>DAKAR</td>\n",
       "      <td>K &gt; 24 month</td>\n",
       "      <td>13500.0</td>\n",
       "      <td>15.0</td>\n",
       "      <td>13502.0</td>\n",
       "      <td>4501.0</td>\n",
       "      <td>18.0</td>\n",
       "      <td>43804.0</td>\n",
       "      <td>41.0</td>\n",
       "      <td>102.0</td>\n",
       "      <td>2.0</td>\n",
       "      <td>62</td>\n",
       "      <td>Data:1000F=5GB,7d</td>\n",
       "      <td>11.0</td>\n",
       "      <td>0</td>\n",
       "    </tr>\n",
       "    <tr>\n",
       "      <th>7</th>\n",
       "      <td>DAKAR</td>\n",
       "      <td>K &gt; 24 month</td>\n",
       "      <td>7000.0</td>\n",
       "      <td>16.0</td>\n",
       "      <td>7229.0</td>\n",
       "      <td>2410.0</td>\n",
       "      <td>22.0</td>\n",
       "      <td>1601.0</td>\n",
       "      <td>77.0</td>\n",
       "      <td>29.0</td>\n",
       "      <td>100.0</td>\n",
       "      <td>55</td>\n",
       "      <td>All-net 500F=2000F;5d</td>\n",
       "      <td>8.0</td>\n",
       "      <td>0</td>\n",
       "    </tr>\n",
       "    <tr>\n",
       "      <th>11</th>\n",
       "      <td>KAOLACK</td>\n",
       "      <td>K &gt; 24 month</td>\n",
       "      <td>12650.0</td>\n",
       "      <td>27.0</td>\n",
       "      <td>11870.0</td>\n",
       "      <td>3957.0</td>\n",
       "      <td>36.0</td>\n",
       "      <td>8453.0</td>\n",
       "      <td>431.0</td>\n",
       "      <td>66.0</td>\n",
       "      <td>6.0</td>\n",
       "      <td>62</td>\n",
       "      <td>On net 200F=Unlimited _call24H</td>\n",
       "      <td>11.0</td>\n",
       "      <td>0</td>\n",
       "    </tr>\n",
       "    <tr>\n",
       "      <th>18</th>\n",
       "      <td>DAKAR</td>\n",
       "      <td>K &gt; 24 month</td>\n",
       "      <td>7600.0</td>\n",
       "      <td>46.0</td>\n",
       "      <td>7875.0</td>\n",
       "      <td>2625.0</td>\n",
       "      <td>57.0</td>\n",
       "      <td>901.0</td>\n",
       "      <td>10.0</td>\n",
       "      <td>60.0</td>\n",
       "      <td>7.0</td>\n",
       "      <td>62</td>\n",
       "      <td>Data: 100 F=40MB,24H</td>\n",
       "      <td>27.0</td>\n",
       "      <td>0</td>\n",
       "    </tr>\n",
       "    <tr>\n",
       "      <th>19</th>\n",
       "      <td>DAKAR</td>\n",
       "      <td>K &gt; 24 month</td>\n",
       "      <td>21200.0</td>\n",
       "      <td>22.0</td>\n",
       "      <td>22202.0</td>\n",
       "      <td>7401.0</td>\n",
       "      <td>27.0</td>\n",
       "      <td>138609.0</td>\n",
       "      <td>0.0</td>\n",
       "      <td>39.0</td>\n",
       "      <td>1.0</td>\n",
       "      <td>58</td>\n",
       "      <td>Data:1000F=5GB,7d</td>\n",
       "      <td>21.0</td>\n",
       "      <td>0</td>\n",
       "    </tr>\n",
       "    <tr>\n",
       "      <th>23</th>\n",
       "      <td>NaN</td>\n",
       "      <td>K &gt; 24 month</td>\n",
       "      <td>5450.0</td>\n",
       "      <td>14.0</td>\n",
       "      <td>5696.0</td>\n",
       "      <td>1899.0</td>\n",
       "      <td>16.0</td>\n",
       "      <td>32.0</td>\n",
       "      <td>586.0</td>\n",
       "      <td>184.0</td>\n",
       "      <td>30.0</td>\n",
       "      <td>25</td>\n",
       "      <td>Mixt 250F=Unlimited_call24H</td>\n",
       "      <td>9.0</td>\n",
       "      <td>0</td>\n",
       "    </tr>\n",
       "    <tr>\n",
       "      <th>24</th>\n",
       "      <td>NaN</td>\n",
       "      <td>K &gt; 24 month</td>\n",
       "      <td>7600.0</td>\n",
       "      <td>16.0</td>\n",
       "      <td>7599.0</td>\n",
       "      <td>2533.0</td>\n",
       "      <td>19.0</td>\n",
       "      <td>1.0</td>\n",
       "      <td>3491.0</td>\n",
       "      <td>9.0</td>\n",
       "      <td>3.0</td>\n",
       "      <td>62</td>\n",
       "      <td>On-net 500F_FNF;3d</td>\n",
       "      <td>9.0</td>\n",
       "      <td>0</td>\n",
       "    </tr>\n",
       "    <tr>\n",
       "      <th>25</th>\n",
       "      <td>SAINT-LOUIS</td>\n",
       "      <td>K &gt; 24 month</td>\n",
       "      <td>4800.0</td>\n",
       "      <td>12.0</td>\n",
       "      <td>4201.0</td>\n",
       "      <td>1400.0</td>\n",
       "      <td>15.0</td>\n",
       "      <td>0.0</td>\n",
       "      <td>69.0</td>\n",
       "      <td>22.0</td>\n",
       "      <td>15.0</td>\n",
       "      <td>62</td>\n",
       "      <td>All-net 500F=2000F;5d</td>\n",
       "      <td>4.0</td>\n",
       "      <td>0</td>\n",
       "    </tr>\n",
       "    <tr>\n",
       "      <th>26</th>\n",
       "      <td>THIES</td>\n",
       "      <td>K &gt; 24 month</td>\n",
       "      <td>12000.0</td>\n",
       "      <td>4.0</td>\n",
       "      <td>12002.0</td>\n",
       "      <td>4001.0</td>\n",
       "      <td>6.0</td>\n",
       "      <td>1928.0</td>\n",
       "      <td>1158.0</td>\n",
       "      <td>402.0</td>\n",
       "      <td>37.0</td>\n",
       "      <td>62</td>\n",
       "      <td>MIXT: 200mnoff net _unl on net _5Go;30d</td>\n",
       "      <td>2.0</td>\n",
       "      <td>0</td>\n",
       "    </tr>\n",
       "  </tbody>\n",
       "</table>\n",
       "</div>"
      ],
      "text/plain": [
       "         REGION        TENURE  MONTANT  FREQUENCE_RECH  REVENUE  ARPU_SEGMENT  \\\n",
       "0        FATICK  K > 24 month   4250.0            15.0   4251.0        1417.0   \n",
       "3         DAKAR  K > 24 month  13500.0            15.0  13502.0        4501.0   \n",
       "7         DAKAR  K > 24 month   7000.0            16.0   7229.0        2410.0   \n",
       "11      KAOLACK  K > 24 month  12650.0            27.0  11870.0        3957.0   \n",
       "18        DAKAR  K > 24 month   7600.0            46.0   7875.0        2625.0   \n",
       "19        DAKAR  K > 24 month  21200.0            22.0  22202.0        7401.0   \n",
       "23          NaN  K > 24 month   5450.0            14.0   5696.0        1899.0   \n",
       "24          NaN  K > 24 month   7600.0            16.0   7599.0        2533.0   \n",
       "25  SAINT-LOUIS  K > 24 month   4800.0            12.0   4201.0        1400.0   \n",
       "26        THIES  K > 24 month  12000.0             4.0  12002.0        4001.0   \n",
       "\n",
       "    FREQUENCE  DATA_VOLUME  ON_NET  ORANGE   TIGO  REGULARITY  \\\n",
       "0        17.0          4.0   388.0    46.0    1.0          54   \n",
       "3        18.0      43804.0    41.0   102.0    2.0          62   \n",
       "7        22.0       1601.0    77.0    29.0  100.0          55   \n",
       "11       36.0       8453.0   431.0    66.0    6.0          62   \n",
       "18       57.0        901.0    10.0    60.0    7.0          62   \n",
       "19       27.0     138609.0     0.0    39.0    1.0          58   \n",
       "23       16.0         32.0   586.0   184.0   30.0          25   \n",
       "24       19.0          1.0  3491.0     9.0    3.0          62   \n",
       "25       15.0          0.0    69.0    22.0   15.0          62   \n",
       "26        6.0       1928.0  1158.0   402.0   37.0          62   \n",
       "\n",
       "                                   TOP_PACK  FREQ_TOP_PACK  CHURN  \n",
       "0            On net 200F=Unlimited _call24H            8.0      0  \n",
       "3                         Data:1000F=5GB,7d           11.0      0  \n",
       "7                     All-net 500F=2000F;5d            8.0      0  \n",
       "11           On net 200F=Unlimited _call24H           11.0      0  \n",
       "18                     Data: 100 F=40MB,24H           27.0      0  \n",
       "19                        Data:1000F=5GB,7d           21.0      0  \n",
       "23              Mixt 250F=Unlimited_call24H            9.0      0  \n",
       "24                       On-net 500F_FNF;3d            9.0      0  \n",
       "25                    All-net 500F=2000F;5d            4.0      0  \n",
       "26  MIXT: 200mnoff net _unl on net _5Go;30d            2.0      0  "
      ]
     },
     "execution_count": 9,
     "metadata": {},
     "output_type": "execute_result"
    }
   ],
   "source": [
    "df.head(10)"
   ]
  },
  {
   "cell_type": "markdown",
   "metadata": {
    "id": "_Y-LhvZZQp2v"
   },
   "source": [
    "Imputing values for three cols with null values --> REGION - 'Others', TOP_PACK - 'No Top Pack', FREQ_TOP_PACK - '0'"
   ]
  },
  {
   "cell_type": "code",
   "execution_count": 10,
   "metadata": {
    "id": "h1qjqNMiZfWW"
   },
   "outputs": [],
   "source": [
    "#imputing null values with mean values in the column\n",
    "from sklearn.impute import SimpleImputer\n",
    "imputer = SimpleImputer(missing_values=np.nan,strategy='constant', fill_value='Other')\n",
    "imputer.fit(df.iloc[:,0:1])\n",
    "df.iloc[:,0:1] = imputer.transform(df.iloc[:,0:1])\n",
    "\n",
    "#imputing null values in top pack column with 'No top pack' making that as a category in the column\n",
    "imputer1 = SimpleImputer(missing_values=np.nan, strategy='constant', fill_value='No Top pack')\n",
    "imputer1.fit(df.iloc[:, 12:13])\n",
    "df.iloc[:, 12:13] = imputer1.transform(df.iloc[:, 12:13])\n",
    "\n",
    "#imputing null values in freq_top_pack column with '0' making that as a value in the column\n",
    "imputer2 = SimpleImputer(missing_values=np.nan, strategy='constant', fill_value=0)\n",
    "imputer2.fit(df.iloc[:, 13:14])\n",
    "df.iloc[:, 13:14] = imputer2.transform(df.iloc[:, 13:14])"
   ]
  },
  {
   "cell_type": "code",
   "execution_count": 11,
   "metadata": {
    "colab": {
     "base_uri": "https://localhost:8080/"
    },
    "executionInfo": {
     "elapsed": 9,
     "status": "ok",
     "timestamp": 1638757387191,
     "user": {
      "displayName": "Malar Pandian",
      "photoUrl": "https://lh3.googleusercontent.com/a-/AOh14Gg6ys-g_7W33ykd7dMjgJPuNP32EMcd1_mOD5QI_g=s64",
      "userId": "09417674361703451797"
     },
     "user_tz": 300
    },
    "id": "CV9gR_YIZfWX",
    "outputId": "17e58ebc-be92-4bf3-a3cd-fafdd2e7d4b1"
   },
   "outputs": [
    {
     "data": {
      "text/plain": [
       "REGION            0\n",
       "TENURE            0\n",
       "MONTANT           0\n",
       "FREQUENCE_RECH    0\n",
       "REVENUE           0\n",
       "ARPU_SEGMENT      0\n",
       "FREQUENCE         0\n",
       "DATA_VOLUME       0\n",
       "ON_NET            0\n",
       "ORANGE            0\n",
       "TIGO              0\n",
       "REGULARITY        0\n",
       "TOP_PACK          0\n",
       "FREQ_TOP_PACK     0\n",
       "CHURN             0\n",
       "dtype: int64"
      ]
     },
     "execution_count": 11,
     "metadata": {},
     "output_type": "execute_result"
    }
   ],
   "source": [
    "df.isna().sum()"
   ]
  },
  {
   "cell_type": "code",
   "execution_count": 12,
   "metadata": {
    "colab": {
     "base_uri": "https://localhost:8080/",
     "height": 766
    },
    "executionInfo": {
     "elapsed": 1383,
     "status": "ok",
     "timestamp": 1638757388570,
     "user": {
      "displayName": "Malar Pandian",
      "photoUrl": "https://lh3.googleusercontent.com/a-/AOh14Gg6ys-g_7W33ykd7dMjgJPuNP32EMcd1_mOD5QI_g=s64",
      "userId": "09417674361703451797"
     },
     "user_tz": 300
    },
    "id": "fC3ozLNZZfWX",
    "outputId": "b975e377-552f-43f9-b3b1-50e80ac7b446"
   },
   "outputs": [
    {
     "name": "stdout",
     "output_type": "stream",
     "text": [
      "Index(['REGION', 'TENURE', 'MONTANT', 'FREQUENCE_RECH', 'REVENUE',\n",
      "       'ARPU_SEGMENT', 'FREQUENCE', 'DATA_VOLUME', 'ON_NET', 'ORANGE', 'TIGO',\n",
      "       'REGULARITY', 'TOP_PACK', 'FREQ_TOP_PACK', 'CHURN'],\n",
      "      dtype='object')\n"
     ]
    },
    {
     "data": {
      "text/plain": [
       "<matplotlib.axes._subplots.AxesSubplot at 0x1e7cbaf41f0>"
      ]
     },
     "execution_count": 12,
     "metadata": {},
     "output_type": "execute_result"
    },
    {
     "data": {
      "image/png": "[encoded data removed]",
      "text/plain": [
       "<Figure size 720x720 with 2 Axes>"
      ]
     },
     "metadata": {
      "needs_background": "light"
     },
     "output_type": "display_data"
    }
   ],
   "source": [
    "#correlation heatmap to check top features\n",
    "new_df = df.copy(deep=True)\n",
    "print(new_df.columns)\n",
    "new_df = new_df.drop(columns = (['ARPU_SEGMENT', 'FREQUENCE']), axis=1)\n",
    "corrmat = new_df.corr()\n",
    "plt.figure(figsize=(10, 10))\n",
    "top_corr_features = corrmat.index\n",
    "sns.heatmap(df[top_corr_features].corr(),annot=True,cmap=\"YlGnBu\")\n",
    "#data[top_corr_features].corr().to_csv(\"corrMat.csv\")"
   ]
  },
  {
   "cell_type": "markdown",
   "metadata": {
    "id": "z-9_H_DDWSYP"
   },
   "source": [
    "REVENUE and MONTANT is highly correlated. So removing REVENUE column. This correlation map doesnt include string datatyoe columns. We will use PCA or OLS to filter more features."
   ]
  },
  {
   "cell_type": "code",
   "execution_count": 13,
   "metadata": {
    "id": "GCxBWFsLZfWY"
   },
   "outputs": [],
   "source": [
    "df = df.drop(columns = (['REVENUE']))"
   ]
  },
  {
   "cell_type": "code",
   "execution_count": 14,
   "metadata": {
    "id": "llcnkiG0ZfWY"
   },
   "outputs": [],
   "source": [
    "# encoding categorical variables using get_dummies\n",
    "cat_variables = ['REGION', 'TENURE', 'TOP_PACK']\n",
    "df = pd.get_dummies(df, columns=cat_variables, drop_first=True)\n"
   ]
  },
  {
   "cell_type": "markdown",
   "metadata": {
    "id": "VvTeic-Ow_2i"
   },
   "source": [
    "drop_first is set to true to avoid multicollinearity problem"
   ]
  },
  {
   "cell_type": "code",
   "execution_count": 15,
   "metadata": {
    "colab": {
     "base_uri": "https://localhost:8080/"
    },
    "executionInfo": {
     "elapsed": 21,
     "status": "ok",
     "timestamp": 1638757389213,
     "user": {
      "displayName": "Malar Pandian",
      "photoUrl": "https://lh3.googleusercontent.com/a-/AOh14Gg6ys-g_7W33ykd7dMjgJPuNP32EMcd1_mOD5QI_g=s64",
      "userId": "09417674361703451797"
     },
     "user_tz": 300
    },
    "id": "5AqyhrdUZfWY",
    "outputId": "96632701-c18d-4ec3-b8ba-f1149070b495"
   },
   "outputs": [
    {
     "name": "stdout",
     "output_type": "stream",
     "text": [
      "<class 'pandas.core.frame.DataFrame'>\n",
      "Int64Index: 536226 entries, 0 to 2154044\n",
      "Columns: 138 entries, MONTANT to TOP_PACK_pilot_offer7\n",
      "dtypes: float64(9), int64(2), uint8(127)\n",
      "memory usage: 114.0 MB\n"
     ]
    }
   ],
   "source": [
    "df.info()"
   ]
  },
  {
   "cell_type": "code",
   "execution_count": 16,
   "metadata": {
    "colab": {
     "base_uri": "https://localhost:8080/"
    },
    "executionInfo": {
     "elapsed": 120,
     "status": "ok",
     "timestamp": 1638757584464,
     "user": {
      "displayName": "Malar Pandian",
      "photoUrl": "https://lh3.googleusercontent.com/a-/AOh14Gg6ys-g_7W33ykd7dMjgJPuNP32EMcd1_mOD5QI_g=s64",
      "userId": "09417674361703451797"
     },
     "user_tz": 300
    },
    "id": "z_f4H30ijuf9",
    "outputId": "36a706d9-908f-4ac4-8300-77216cfa2d2d"
   },
   "outputs": [
    {
     "name": "stdout",
     "output_type": "stream",
     "text": [
      "Index(['MONTANT', 'FREQUENCE_RECH', 'ARPU_SEGMENT', 'FREQUENCE', 'DATA_VOLUME',\n",
      "       'ON_NET', 'ORANGE', 'TIGO', 'REGULARITY', 'FREQ_TOP_PACK', 'CHURN',\n",
      "       'REGION_DIOURBEL', 'REGION_FATICK', 'REGION_KAFFRINE', 'REGION_KAOLACK',\n",
      "       'REGION_KEDOUGOU', 'REGION_KOLDA', 'REGION_LOUGA', 'REGION_MATAM',\n",
      "       'REGION_Other', 'REGION_SAINT-LOUIS', 'REGION_SEDHIOU',\n",
      "       'REGION_TAMBACOUNDA', 'REGION_THIES', 'REGION_ZIGUINCHOR',\n",
      "       'TENURE_E 6-9 month', 'TENURE_F 9-12 month', 'TENURE_G 12-15 month',\n",
      "       'TENURE_H 15-18 month', 'TENURE_I 18-21 month', 'TENURE_J 21-24 month',\n",
      "       'TENURE_K > 24 month', 'TOP_PACK_1500=Unlimited7Day',\n",
      "       'TOP_PACK_200=Unlimited1Day', 'TOP_PACK_200F=10mnOnNetValid1H',\n",
      "       'TOP_PACK_305155009', 'TOP_PACK_500=Unlimited3Day',\n",
      "       'TOP_PACK_APANews_weekly', 'TOP_PACK_All-net 1000=5000;5d',\n",
      "       'TOP_PACK_All-net 1000F=(3000F On+3000F Off);5d',\n",
      "       'TOP_PACK_All-net 300=600;2d',\n",
      "       'TOP_PACK_All-net 5000= 20000off+20000on;30d',\n",
      "       'TOP_PACK_All-net 500= 4000off+4000on;24H',\n",
      "       'TOP_PACK_All-net 500F =2000F_AllNet_Unlimited',\n",
      "       'TOP_PACK_All-net 500F=1250F_AllNet_1250_Onnet;48h',\n",
      "       'TOP_PACK_All-net 500F=2000F;5d', 'TOP_PACK_All-net 500F=4000F ; 5d',\n",
      "       'TOP_PACK_All-net 600F= 3000F ;5d', 'TOP_PACK_CVM_100F_unlimited',\n",
      "       'TOP_PACK_CVM_100f=200 MB'],\n",
      "      dtype='object')\n"
     ]
    }
   ],
   "source": [
    "print(df.columns[0:50])"
   ]
  },
  {
   "cell_type": "code",
   "execution_count": 17,
   "metadata": {
    "colab": {
     "base_uri": "https://localhost:8080/",
     "height": 325
    },
    "executionInfo": {
     "elapsed": 182,
     "status": "ok",
     "timestamp": 1638757389388,
     "user": {
      "displayName": "Malar Pandian",
      "photoUrl": "https://lh3.googleusercontent.com/a-/AOh14Gg6ys-g_7W33ykd7dMjgJPuNP32EMcd1_mOD5QI_g=s64",
      "userId": "09417674361703451797"
     },
     "user_tz": 300
    },
    "id": "yOuY-VlHZfWZ",
    "outputId": "92f1cb5e-71f1-4e56-a857-eb02a94baf85"
   },
   "outputs": [
    {
     "data": {
      "text/html": [
       "<div>\n",
       "<style scoped>\n",
       "    .dataframe tbody tr th:only-of-type {\n",
       "        vertical-align: middle;\n",
       "    }\n",
       "\n",
       "    .dataframe tbody tr th {\n",
       "        vertical-align: top;\n",
       "    }\n",
       "\n",
       "    .dataframe thead th {\n",
       "        text-align: right;\n",
       "    }\n",
       "</style>\n",
       "<table border=\"1\" class=\"dataframe\">\n",
       "  <thead>\n",
       "    <tr style=\"text-align: right;\">\n",
       "      <th></th>\n",
       "      <th>MONTANT</th>\n",
       "      <th>FREQUENCE_RECH</th>\n",
       "      <th>ARPU_SEGMENT</th>\n",
       "      <th>FREQUENCE</th>\n",
       "      <th>DATA_VOLUME</th>\n",
       "      <th>ON_NET</th>\n",
       "      <th>ORANGE</th>\n",
       "      <th>TIGO</th>\n",
       "      <th>REGULARITY</th>\n",
       "      <th>FREQ_TOP_PACK</th>\n",
       "      <th>...</th>\n",
       "      <th>TOP_PACK_Twter_U2opia_Daily</th>\n",
       "      <th>TOP_PACK_Twter_U2opia_Monthly</th>\n",
       "      <th>TOP_PACK_Twter_U2opia_Weekly</th>\n",
       "      <th>TOP_PACK_VAS(IVR_Radio_Daily)</th>\n",
       "      <th>TOP_PACK_VAS(IVR_Radio_Monthly)</th>\n",
       "      <th>TOP_PACK_VAS(IVR_Radio_Weekly)</th>\n",
       "      <th>TOP_PACK_YMGX 100=1 hour FNF, 24H/1 month</th>\n",
       "      <th>TOP_PACK_Yewouleen_PKG</th>\n",
       "      <th>TOP_PACK_pack_chinguitel_24h</th>\n",
       "      <th>TOP_PACK_pilot_offer7</th>\n",
       "    </tr>\n",
       "  </thead>\n",
       "  <tbody>\n",
       "    <tr>\n",
       "      <th>0</th>\n",
       "      <td>4250.0</td>\n",
       "      <td>15.0</td>\n",
       "      <td>1417.0</td>\n",
       "      <td>17.0</td>\n",
       "      <td>4.0</td>\n",
       "      <td>388.0</td>\n",
       "      <td>46.0</td>\n",
       "      <td>1.0</td>\n",
       "      <td>54</td>\n",
       "      <td>8.0</td>\n",
       "      <td>...</td>\n",
       "      <td>0</td>\n",
       "      <td>0</td>\n",
       "      <td>0</td>\n",
       "      <td>0</td>\n",
       "      <td>0</td>\n",
       "      <td>0</td>\n",
       "      <td>0</td>\n",
       "      <td>0</td>\n",
       "      <td>0</td>\n",
       "      <td>0</td>\n",
       "    </tr>\n",
       "    <tr>\n",
       "      <th>3</th>\n",
       "      <td>13500.0</td>\n",
       "      <td>15.0</td>\n",
       "      <td>4501.0</td>\n",
       "      <td>18.0</td>\n",
       "      <td>43804.0</td>\n",
       "      <td>41.0</td>\n",
       "      <td>102.0</td>\n",
       "      <td>2.0</td>\n",
       "      <td>62</td>\n",
       "      <td>11.0</td>\n",
       "      <td>...</td>\n",
       "      <td>0</td>\n",
       "      <td>0</td>\n",
       "      <td>0</td>\n",
       "      <td>0</td>\n",
       "      <td>0</td>\n",
       "      <td>0</td>\n",
       "      <td>0</td>\n",
       "      <td>0</td>\n",
       "      <td>0</td>\n",
       "      <td>0</td>\n",
       "    </tr>\n",
       "    <tr>\n",
       "      <th>7</th>\n",
       "      <td>7000.0</td>\n",
       "      <td>16.0</td>\n",
       "      <td>2410.0</td>\n",
       "      <td>22.0</td>\n",
       "      <td>1601.0</td>\n",
       "      <td>77.0</td>\n",
       "      <td>29.0</td>\n",
       "      <td>100.0</td>\n",
       "      <td>55</td>\n",
       "      <td>8.0</td>\n",
       "      <td>...</td>\n",
       "      <td>0</td>\n",
       "      <td>0</td>\n",
       "      <td>0</td>\n",
       "      <td>0</td>\n",
       "      <td>0</td>\n",
       "      <td>0</td>\n",
       "      <td>0</td>\n",
       "      <td>0</td>\n",
       "      <td>0</td>\n",
       "      <td>0</td>\n",
       "    </tr>\n",
       "    <tr>\n",
       "      <th>11</th>\n",
       "      <td>12650.0</td>\n",
       "      <td>27.0</td>\n",
       "      <td>3957.0</td>\n",
       "      <td>36.0</td>\n",
       "      <td>8453.0</td>\n",
       "      <td>431.0</td>\n",
       "      <td>66.0</td>\n",
       "      <td>6.0</td>\n",
       "      <td>62</td>\n",
       "      <td>11.0</td>\n",
       "      <td>...</td>\n",
       "      <td>0</td>\n",
       "      <td>0</td>\n",
       "      <td>0</td>\n",
       "      <td>0</td>\n",
       "      <td>0</td>\n",
       "      <td>0</td>\n",
       "      <td>0</td>\n",
       "      <td>0</td>\n",
       "      <td>0</td>\n",
       "      <td>0</td>\n",
       "    </tr>\n",
       "    <tr>\n",
       "      <th>18</th>\n",
       "      <td>7600.0</td>\n",
       "      <td>46.0</td>\n",
       "      <td>2625.0</td>\n",
       "      <td>57.0</td>\n",
       "      <td>901.0</td>\n",
       "      <td>10.0</td>\n",
       "      <td>60.0</td>\n",
       "      <td>7.0</td>\n",
       "      <td>62</td>\n",
       "      <td>27.0</td>\n",
       "      <td>...</td>\n",
       "      <td>0</td>\n",
       "      <td>0</td>\n",
       "      <td>0</td>\n",
       "      <td>0</td>\n",
       "      <td>0</td>\n",
       "      <td>0</td>\n",
       "      <td>0</td>\n",
       "      <td>0</td>\n",
       "      <td>0</td>\n",
       "      <td>0</td>\n",
       "    </tr>\n",
       "  </tbody>\n",
       "</table>\n",
       "<p>5 rows × 138 columns</p>\n",
       "</div>"
      ],
      "text/plain": [
       "    MONTANT  FREQUENCE_RECH  ARPU_SEGMENT  FREQUENCE  DATA_VOLUME  ON_NET  \\\n",
       "0    4250.0            15.0        1417.0       17.0          4.0   388.0   \n",
       "3   13500.0            15.0        4501.0       18.0      43804.0    41.0   \n",
       "7    7000.0            16.0        2410.0       22.0       1601.0    77.0   \n",
       "11  12650.0            27.0        3957.0       36.0       8453.0   431.0   \n",
       "18   7600.0            46.0        2625.0       57.0        901.0    10.0   \n",
       "\n",
       "    ORANGE   TIGO  REGULARITY  FREQ_TOP_PACK  ...  \\\n",
       "0     46.0    1.0          54            8.0  ...   \n",
       "3    102.0    2.0          62           11.0  ...   \n",
       "7     29.0  100.0          55            8.0  ...   \n",
       "11    66.0    6.0          62           11.0  ...   \n",
       "18    60.0    7.0          62           27.0  ...   \n",
       "\n",
       "    TOP_PACK_Twter_U2opia_Daily  TOP_PACK_Twter_U2opia_Monthly  \\\n",
       "0                             0                              0   \n",
       "3                             0                              0   \n",
       "7                             0                              0   \n",
       "11                            0                              0   \n",
       "18                            0                              0   \n",
       "\n",
       "    TOP_PACK_Twter_U2opia_Weekly  TOP_PACK_VAS(IVR_Radio_Daily)  \\\n",
       "0                              0                              0   \n",
       "3                              0                              0   \n",
       "7                              0                              0   \n",
       "11                             0                              0   \n",
       "18                             0                              0   \n",
       "\n",
       "    TOP_PACK_VAS(IVR_Radio_Monthly)  TOP_PACK_VAS(IVR_Radio_Weekly)  \\\n",
       "0                                 0                               0   \n",
       "3                                 0                               0   \n",
       "7                                 0                               0   \n",
       "11                                0                               0   \n",
       "18                                0                               0   \n",
       "\n",
       "    TOP_PACK_YMGX 100=1 hour FNF, 24H/1 month  TOP_PACK_Yewouleen_PKG  \\\n",
       "0                                           0                       0   \n",
       "3                                           0                       0   \n",
       "7                                           0                       0   \n",
       "11                                          0                       0   \n",
       "18                                          0                       0   \n",
       "\n",
       "    TOP_PACK_pack_chinguitel_24h  TOP_PACK_pilot_offer7  \n",
       "0                              0                      0  \n",
       "3                              0                      0  \n",
       "7                              0                      0  \n",
       "11                             0                      0  \n",
       "18                             0                      0  \n",
       "\n",
       "[5 rows x 138 columns]"
      ]
     },
     "execution_count": 17,
     "metadata": {},
     "output_type": "execute_result"
    }
   ],
   "source": [
    "df.head()"
   ]
  },
  {
   "cell_type": "code",
   "execution_count": 18,
   "metadata": {
    "id": "gX8z3erPku7z"
   },
   "outputs": [],
   "source": [
    "#feature scaling\n",
    "from sklearn.preprocessing import StandardScaler\n",
    "sc = StandardScaler()\n",
    "df.iloc[:, :10] = sc.fit_transform(df.iloc[:, :10])"
   ]
  },
  {
   "cell_type": "code",
   "execution_count": 19,
   "metadata": {
    "colab": {
     "base_uri": "https://localhost:8080/",
     "height": 325
    },
    "executionInfo": {
     "elapsed": 165,
     "status": "ok",
     "timestamp": 1638757390555,
     "user": {
      "displayName": "Malar Pandian",
      "photoUrl": "https://lh3.googleusercontent.com/a-/AOh14Gg6ys-g_7W33ykd7dMjgJPuNP32EMcd1_mOD5QI_g=s64",
      "userId": "09417674361703451797"
     },
     "user_tz": 300
    },
    "id": "WG4Yw4f9nR8n",
    "outputId": "888f0a34-cfd8-4c12-83c3-401ccfe5fe9d"
   },
   "outputs": [
    {
     "data": {
      "text/html": [
       "<div>\n",
       "<style scoped>\n",
       "    .dataframe tbody tr th:only-of-type {\n",
       "        vertical-align: middle;\n",
       "    }\n",
       "\n",
       "    .dataframe tbody tr th {\n",
       "        vertical-align: top;\n",
       "    }\n",
       "\n",
       "    .dataframe thead th {\n",
       "        text-align: right;\n",
       "    }\n",
       "</style>\n",
       "<table border=\"1\" class=\"dataframe\">\n",
       "  <thead>\n",
       "    <tr style=\"text-align: right;\">\n",
       "      <th></th>\n",
       "      <th>MONTANT</th>\n",
       "      <th>FREQUENCE_RECH</th>\n",
       "      <th>ARPU_SEGMENT</th>\n",
       "      <th>FREQUENCE</th>\n",
       "      <th>DATA_VOLUME</th>\n",
       "      <th>ON_NET</th>\n",
       "      <th>ORANGE</th>\n",
       "      <th>TIGO</th>\n",
       "      <th>REGULARITY</th>\n",
       "      <th>FREQ_TOP_PACK</th>\n",
       "      <th>...</th>\n",
       "      <th>TOP_PACK_Twter_U2opia_Daily</th>\n",
       "      <th>TOP_PACK_Twter_U2opia_Monthly</th>\n",
       "      <th>TOP_PACK_Twter_U2opia_Weekly</th>\n",
       "      <th>TOP_PACK_VAS(IVR_Radio_Daily)</th>\n",
       "      <th>TOP_PACK_VAS(IVR_Radio_Monthly)</th>\n",
       "      <th>TOP_PACK_VAS(IVR_Radio_Weekly)</th>\n",
       "      <th>TOP_PACK_YMGX 100=1 hour FNF, 24H/1 month</th>\n",
       "      <th>TOP_PACK_Yewouleen_PKG</th>\n",
       "      <th>TOP_PACK_pack_chinguitel_24h</th>\n",
       "      <th>TOP_PACK_pilot_offer7</th>\n",
       "    </tr>\n",
       "  </thead>\n",
       "  <tbody>\n",
       "    <tr>\n",
       "      <th>0</th>\n",
       "      <td>-0.493753</td>\n",
       "      <td>-0.140539</td>\n",
       "      <td>-0.506027</td>\n",
       "      <td>-0.232363</td>\n",
       "      <td>-0.463105</td>\n",
       "      <td>-0.025407</td>\n",
       "      <td>-0.356589</td>\n",
       "      <td>-0.356781</td>\n",
       "      <td>0.410521</td>\n",
       "      <td>-0.295613</td>\n",
       "      <td>...</td>\n",
       "      <td>0</td>\n",
       "      <td>0</td>\n",
       "      <td>0</td>\n",
       "      <td>0</td>\n",
       "      <td>0</td>\n",
       "      <td>0</td>\n",
       "      <td>0</td>\n",
       "      <td>0</td>\n",
       "      <td>0</td>\n",
       "      <td>0</td>\n",
       "    </tr>\n",
       "    <tr>\n",
       "      <th>3</th>\n",
       "      <td>0.634754</td>\n",
       "      <td>-0.140539</td>\n",
       "      <td>0.601423</td>\n",
       "      <td>-0.172071</td>\n",
       "      <td>4.247278</td>\n",
       "      <td>-0.345854</td>\n",
       "      <td>-0.134114</td>\n",
       "      <td>-0.342171</td>\n",
       "      <td>0.926482</td>\n",
       "      <td>-0.082667</td>\n",
       "      <td>...</td>\n",
       "      <td>0</td>\n",
       "      <td>0</td>\n",
       "      <td>0</td>\n",
       "      <td>0</td>\n",
       "      <td>0</td>\n",
       "      <td>0</td>\n",
       "      <td>0</td>\n",
       "      <td>0</td>\n",
       "      <td>0</td>\n",
       "      <td>0</td>\n",
       "    </tr>\n",
       "    <tr>\n",
       "      <th>7</th>\n",
       "      <td>-0.158251</td>\n",
       "      <td>-0.075638</td>\n",
       "      <td>-0.149445</td>\n",
       "      <td>0.069095</td>\n",
       "      <td>-0.291358</td>\n",
       "      <td>-0.312609</td>\n",
       "      <td>-0.424126</td>\n",
       "      <td>1.089633</td>\n",
       "      <td>0.475016</td>\n",
       "      <td>-0.295613</td>\n",
       "      <td>...</td>\n",
       "      <td>0</td>\n",
       "      <td>0</td>\n",
       "      <td>0</td>\n",
       "      <td>0</td>\n",
       "      <td>0</td>\n",
       "      <td>0</td>\n",
       "      <td>0</td>\n",
       "      <td>0</td>\n",
       "      <td>0</td>\n",
       "      <td>0</td>\n",
       "    </tr>\n",
       "    <tr>\n",
       "      <th>11</th>\n",
       "      <td>0.531053</td>\n",
       "      <td>0.638269</td>\n",
       "      <td>0.406075</td>\n",
       "      <td>0.913176</td>\n",
       "      <td>0.445526</td>\n",
       "      <td>0.014303</td>\n",
       "      <td>-0.277134</td>\n",
       "      <td>-0.283730</td>\n",
       "      <td>0.926482</td>\n",
       "      <td>-0.082667</td>\n",
       "      <td>...</td>\n",
       "      <td>0</td>\n",
       "      <td>0</td>\n",
       "      <td>0</td>\n",
       "      <td>0</td>\n",
       "      <td>0</td>\n",
       "      <td>0</td>\n",
       "      <td>0</td>\n",
       "      <td>0</td>\n",
       "      <td>0</td>\n",
       "      <td>0</td>\n",
       "    </tr>\n",
       "    <tr>\n",
       "      <th>18</th>\n",
       "      <td>-0.085051</td>\n",
       "      <td>1.871382</td>\n",
       "      <td>-0.072240</td>\n",
       "      <td>2.179299</td>\n",
       "      <td>-0.366638</td>\n",
       "      <td>-0.374482</td>\n",
       "      <td>-0.300970</td>\n",
       "      <td>-0.269120</td>\n",
       "      <td>0.926482</td>\n",
       "      <td>1.053046</td>\n",
       "      <td>...</td>\n",
       "      <td>0</td>\n",
       "      <td>0</td>\n",
       "      <td>0</td>\n",
       "      <td>0</td>\n",
       "      <td>0</td>\n",
       "      <td>0</td>\n",
       "      <td>0</td>\n",
       "      <td>0</td>\n",
       "      <td>0</td>\n",
       "      <td>0</td>\n",
       "    </tr>\n",
       "  </tbody>\n",
       "</table>\n",
       "<p>5 rows × 138 columns</p>\n",
       "</div>"
      ],
      "text/plain": [
       "     MONTANT  FREQUENCE_RECH  ARPU_SEGMENT  FREQUENCE  DATA_VOLUME    ON_NET  \\\n",
       "0  -0.493753       -0.140539     -0.506027  -0.232363    -0.463105 -0.025407   \n",
       "3   0.634754       -0.140539      0.601423  -0.172071     4.247278 -0.345854   \n",
       "7  -0.158251       -0.075638     -0.149445   0.069095    -0.291358 -0.312609   \n",
       "11  0.531053        0.638269      0.406075   0.913176     0.445526  0.014303   \n",
       "18 -0.085051        1.871382     -0.072240   2.179299    -0.366638 -0.374482   \n",
       "\n",
       "      ORANGE      TIGO  REGULARITY  FREQ_TOP_PACK  ...  \\\n",
       "0  -0.356589 -0.356781    0.410521      -0.295613  ...   \n",
       "3  -0.134114 -0.342171    0.926482      -0.082667  ...   \n",
       "7  -0.424126  1.089633    0.475016      -0.295613  ...   \n",
       "11 -0.277134 -0.283730    0.926482      -0.082667  ...   \n",
       "18 -0.300970 -0.269120    0.926482       1.053046  ...   \n",
       "\n",
       "    TOP_PACK_Twter_U2opia_Daily  TOP_PACK_Twter_U2opia_Monthly  \\\n",
       "0                             0                              0   \n",
       "3                             0                              0   \n",
       "7                             0                              0   \n",
       "11                            0                              0   \n",
       "18                            0                              0   \n",
       "\n",
       "    TOP_PACK_Twter_U2opia_Weekly  TOP_PACK_VAS(IVR_Radio_Daily)  \\\n",
       "0                              0                              0   \n",
       "3                              0                              0   \n",
       "7                              0                              0   \n",
       "11                             0                              0   \n",
       "18                             0                              0   \n",
       "\n",
       "    TOP_PACK_VAS(IVR_Radio_Monthly)  TOP_PACK_VAS(IVR_Radio_Weekly)  \\\n",
       "0                                 0                               0   \n",
       "3                                 0                               0   \n",
       "7                                 0                               0   \n",
       "11                                0                               0   \n",
       "18                                0                               0   \n",
       "\n",
       "    TOP_PACK_YMGX 100=1 hour FNF, 24H/1 month  TOP_PACK_Yewouleen_PKG  \\\n",
       "0                                           0                       0   \n",
       "3                                           0                       0   \n",
       "7                                           0                       0   \n",
       "11                                          0                       0   \n",
       "18                                          0                       0   \n",
       "\n",
       "    TOP_PACK_pack_chinguitel_24h  TOP_PACK_pilot_offer7  \n",
       "0                              0                      0  \n",
       "3                              0                      0  \n",
       "7                              0                      0  \n",
       "11                             0                      0  \n",
       "18                             0                      0  \n",
       "\n",
       "[5 rows x 138 columns]"
      ]
     },
     "execution_count": 19,
     "metadata": {},
     "output_type": "execute_result"
    }
   ],
   "source": [
    "df.head()"
   ]
  },
  {
   "cell_type": "code",
   "execution_count": null,
   "metadata": {
    "id": "KkYzdRTVnl7w"
   },
   "outputs": [],
   "source": [
    "df.to_csv(\"Complete_Data_BDT.csv\")"
   ]
  },
  {
   "cell_type": "code",
   "execution_count": 20,
   "metadata": {
    "id": "1AX8f0wr53tW"
   },
   "outputs": [],
   "source": [
    "#splitting X and Y sets and the test train data\n",
    "y = df.CHURN\n",
    "x = df.drop(columns=['CHURN'])"
   ]
  },
  {
   "cell_type": "code",
   "execution_count": 21,
   "metadata": {
    "id": "upCfwVxZ5zmV"
   },
   "outputs": [],
   "source": [
    "from sklearn.model_selection import train_test_split\n",
    "X_train, x_test, y_train, y_test = train_test_split(x, y, test_size = 0.2, random_state = 1)"
   ]
  },
  {
   "cell_type": "code",
   "execution_count": 22,
   "metadata": {
    "colab": {
     "base_uri": "https://localhost:8080/"
    },
    "executionInfo": {
     "elapsed": 7396,
     "status": "ok",
     "timestamp": 1638757418722,
     "user": {
      "displayName": "Malar Pandian",
      "photoUrl": "https://lh3.googleusercontent.com/a-/AOh14Gg6ys-g_7W33ykd7dMjgJPuNP32EMcd1_mOD5QI_g=s64",
      "userId": "09417674361703451797"
     },
     "user_tz": 300
    },
    "id": "yENFH5P3_fG_",
    "outputId": "10ad47c2-e7e7-4fc9-9531-654241f499ec"
   },
   "outputs": [
    {
     "name": "stdout",
     "output_type": "stream",
     "text": [
      "length of oversampled data is  837618\n",
      "Number of no subscription in oversampled data 418809\n",
      "Number of subscription 418809\n",
      "Proportion of no subscription data in oversampled data is  0.5\n",
      "Proportion of subscription data in oversampled data is  0.5\n"
     ]
    }
   ],
   "source": [
    "from imblearn.over_sampling import SMOTE\n",
    "os = SMOTE(random_state=0)\n",
    "#columns = X_train.columns\n",
    "os_data_x,os_data_y=os.fit_resample(X_train, y_train)\n",
    "X_train = pd.DataFrame(data=os_data_x, )\n",
    "y_train = pd.DataFrame(data=os_data_y,columns=['CHURN'])\n",
    "# we can Check the numbers of our data\n",
    "print(\"length of oversampled data is \",len(X_train))\n",
    "print(\"Number of no subscription in oversampled data\",len(y_train[y_train['CHURN']==0]))\n",
    "print(\"Number of subscription\",len(y_train[y_train['CHURN']==1]))\n",
    "print(\"Proportion of no subscription data in oversampled data is \",len(y_train[y_train['CHURN']==0])/len(X_train))\n",
    "print(\"Proportion of subscription data in oversampled data is \",len(y_train[y_train['CHURN']==1])/len(X_train))"
   ]
  },
  {
   "cell_type": "code",
   "execution_count": 23,
   "metadata": {
    "colab": {
     "base_uri": "https://localhost:8080/",
     "height": 280
    },
    "executionInfo": {
     "elapsed": 23154,
     "status": "ok",
     "timestamp": 1638757441868,
     "user": {
      "displayName": "Malar Pandian",
      "photoUrl": "https://lh3.googleusercontent.com/a-/AOh14Gg6ys-g_7W33ykd7dMjgJPuNP32EMcd1_mOD5QI_g=s64",
      "userId": "09417674361703451797"
     },
     "user_tz": 300
    },
    "id": "q7ZWhnnl5nZE",
    "outputId": "4e0d8cd0-18aa-48c8-ecd3-b0e4c20064ca"
   },
   "outputs": [
    {
     "data": {
      "image/png": "[encoded data removed]",
      "text/plain": [
       "<Figure size 432x288 with 1 Axes>"
      ]
     },
     "metadata": {
      "needs_background": "light"
     },
     "output_type": "display_data"
    }
   ],
   "source": [
    "from sklearn.decomposition import PCA\n",
    "pca=PCA()  \n",
    "pca.n_components=len(X_train.columns)\n",
    "pca_data=pca.fit_transform(X_train)\n",
    "percentage_var_explained = pca.explained_variance_ratio_;  \n",
    "cum_var_explained=np.cumsum(percentage_var_explained)\n",
    "#plot PCA spectrum   \n",
    "plt.figure(1,figsize=(6,4))\n",
    "plt.clf()  \n",
    "plt.plot(cum_var_explained,linewidth=2)  \n",
    "plt.axis('tight')  \n",
    "plt.grid() \n",
    "plt.xlabel('n_components') \n",
    "plt.ylabel('Cumulative_Variance_explained')  \n",
    "plt.show()"
   ]
  },
  {
   "cell_type": "code",
   "execution_count": 24,
   "metadata": {
    "colab": {
     "base_uri": "https://localhost:8080/"
    },
    "executionInfo": {
     "elapsed": 24918,
     "status": "ok",
     "timestamp": 1638757466745,
     "user": {
      "displayName": "Malar Pandian",
      "photoUrl": "https://lh3.googleusercontent.com/a-/AOh14Gg6ys-g_7W33ykd7dMjgJPuNP32EMcd1_mOD5QI_g=s64",
      "userId": "09417674361703451797"
     },
     "user_tz": 300
    },
    "id": "1jFsy64-9nOm",
    "outputId": "bdd00423-e16a-4db6-a696-cc05d37499b6"
   },
   "outputs": [
    {
     "name": "stdout",
     "output_type": "stream",
     "text": [
      "n_components= 0,   variance=47.800000\n",
      "\n",
      "n_components= 1,   variance=58.420000\n",
      "\n",
      "n_components= 2,   variance=67.180000\n",
      "\n",
      "n_components= 3,   variance=73.470000\n",
      "\n",
      "n_components= 4,   variance=78.290000\n",
      "\n",
      "n_components= 5,   variance=82.410000\n",
      "\n",
      "n_components= 6,   variance=85.250000\n",
      "\n",
      "n_components= 7,   variance=87.160000\n",
      "\n",
      "n_components= 8,   variance=88.790000\n",
      "\n",
      "n_components= 9,   variance=89.950000\n",
      "\n",
      "n_components= 10,   variance=90.950000\n",
      "\n",
      "n_components= 11,   variance=91.770000\n",
      "\n",
      "n_components= 12,   variance=92.450000\n",
      "\n",
      "n_components= 13,   variance=93.060000\n",
      "\n",
      "n_components= 14,   variance=93.630000\n",
      "\n",
      "n_components= 15,   variance=94.140000\n",
      "\n",
      "n_components= 16,   variance=94.580000\n",
      "\n",
      "n_components= 17,   variance=95.000000\n",
      "\n",
      "n_components= 18,   variance=95.390000\n",
      "\n",
      "n_components= 19,   variance=95.770000\n",
      "\n",
      "n_components= 20,   variance=96.110000\n",
      "\n",
      "n_components= 21,   variance=96.430000\n",
      "\n",
      "n_components= 22,   variance=96.740000\n",
      "\n",
      "n_components= 23,   variance=96.990000\n",
      "\n",
      "n_components= 24,   variance=97.230000\n",
      "\n",
      "n_components= 25,   variance=97.440000\n",
      "\n",
      "n_components= 26,   variance=97.640000\n",
      "\n",
      "n_components= 27,   variance=97.820000\n",
      "\n",
      "n_components= 28,   variance=97.980000\n",
      "\n",
      "n_components= 29,   variance=98.130000\n",
      "\n",
      "n_components= 30,   variance=98.260000\n",
      "\n",
      "n_components= 31,   variance=98.380000\n",
      "\n",
      "n_components= 32,   variance=98.500000\n",
      "\n",
      "n_components= 33,   variance=98.610000\n",
      "\n",
      "n_components= 34,   variance=98.720000\n",
      "\n",
      "n_components= 35,   variance=98.830000\n",
      "\n",
      "n_components= 36,   variance=98.930000\n",
      "\n",
      "n_components= 37,   variance=99.030000\n",
      "\n",
      "n_components= 38,   variance=99.120000\n",
      "\n",
      "n_components= 39,   variance=99.190000\n",
      "\n",
      "n_components= 40,   variance=99.260000\n",
      "\n",
      "n_components= 41,   variance=99.320000\n",
      "\n",
      "n_components= 42,   variance=99.380000\n",
      "\n",
      "n_components= 43,   variance=99.430000\n",
      "\n",
      "n_components= 44,   variance=99.480000\n",
      "\n",
      "n_components= 45,   variance=99.530000\n",
      "\n",
      "n_components= 46,   variance=99.580000\n",
      "\n",
      "n_components= 47,   variance=99.620000\n",
      "\n",
      "n_components= 48,   variance=99.650000\n",
      "\n",
      "n_components= 49,   variance=99.680000\n",
      "\n",
      "n_components= 50,   variance=99.710000\n",
      "\n",
      "n_components= 51,   variance=99.730000\n",
      "\n",
      "n_components= 52,   variance=99.760000\n",
      "\n",
      "n_components= 53,   variance=99.780000\n",
      "\n",
      "n_components= 54,   variance=99.800000\n",
      "\n",
      "n_components= 55,   variance=99.820000\n",
      "\n",
      "n_components= 56,   variance=99.830000\n",
      "\n",
      "n_components= 57,   variance=99.840000\n",
      "\n",
      "n_components= 58,   variance=99.860000\n",
      "\n",
      "n_components= 59,   variance=99.870000\n",
      "\n",
      "n_components= 60,   variance=99.880000\n",
      "\n",
      "n_components= 61,   variance=99.880000\n",
      "\n",
      "n_components= 62,   variance=99.890000\n",
      "\n",
      "n_components= 63,   variance=99.900000\n",
      "\n",
      "n_components= 64,   variance=99.910000\n",
      "\n",
      "n_components= 65,   variance=99.910000\n",
      "\n",
      "n_components= 66,   variance=99.920000\n",
      "\n",
      "n_components= 67,   variance=99.930000\n",
      "\n",
      "n_components= 68,   variance=99.930000\n",
      "\n",
      "n_components= 69,   variance=99.940000\n",
      "\n",
      "n_components= 70,   variance=99.940000\n",
      "\n",
      "n_components= 71,   variance=99.950000\n",
      "\n",
      "n_components= 72,   variance=99.950000\n",
      "\n",
      "n_components= 73,   variance=99.960000\n",
      "\n",
      "n_components= 74,   variance=99.960000\n",
      "\n",
      "n_components= 75,   variance=99.960000\n",
      "\n",
      "n_components= 76,   variance=99.970000\n",
      "\n",
      "n_components= 77,   variance=99.970000\n",
      "\n",
      "n_components= 78,   variance=99.970000\n",
      "\n",
      "n_components= 79,   variance=99.980000\n",
      "\n",
      "n_components= 80,   variance=99.980000\n",
      "\n",
      "n_components= 81,   variance=99.980000\n",
      "\n",
      "n_components= 82,   variance=99.980000\n",
      "\n",
      "n_components= 83,   variance=99.980000\n",
      "\n",
      "n_components= 84,   variance=99.980000\n",
      "\n",
      "n_components= 85,   variance=99.990000\n",
      "\n",
      "n_components= 86,   variance=99.990000\n",
      "\n",
      "n_components= 87,   variance=99.990000\n",
      "\n",
      "n_components= 88,   variance=99.990000\n",
      "\n",
      "n_components= 89,   variance=99.990000\n",
      "\n",
      "n_components= 90,   variance=99.990000\n",
      "\n",
      "n_components= 91,   variance=99.990000\n",
      "\n",
      "n_components= 92,   variance=99.990000\n",
      "\n",
      "n_components= 93,   variance=99.990000\n",
      "\n",
      "n_components= 94,   variance=99.990000\n",
      "\n",
      "n_components= 95,   variance=99.990000\n",
      "\n",
      "n_components= 96,   variance=100.000000\n",
      "\n",
      "n_components= 97,   variance=100.000000\n",
      "\n",
      "n_components= 98,   variance=100.000000\n",
      "\n",
      "n_components= 99,   variance=100.000000\n",
      "\n",
      "n_components= 100,   variance=100.000000\n",
      "\n",
      "n_components= 101,   variance=100.000000\n",
      "\n",
      "n_components= 102,   variance=100.000000\n",
      "\n",
      "n_components= 103,   variance=100.000000\n",
      "\n",
      "n_components= 104,   variance=100.000000\n",
      "\n",
      "n_components= 105,   variance=100.000000\n",
      "\n",
      "n_components= 106,   variance=100.000000\n",
      "\n",
      "n_components= 107,   variance=100.000000\n",
      "\n",
      "n_components= 108,   variance=100.000000\n",
      "\n",
      "n_components= 109,   variance=100.000000\n",
      "\n",
      "n_components= 110,   variance=100.000000\n",
      "\n",
      "n_components= 111,   variance=100.000000\n",
      "\n",
      "n_components= 112,   variance=100.000000\n",
      "\n",
      "n_components= 113,   variance=100.000000\n",
      "\n",
      "n_components= 114,   variance=100.000000\n",
      "\n",
      "n_components= 115,   variance=100.000000\n",
      "\n",
      "n_components= 116,   variance=100.000000\n",
      "\n",
      "n_components= 117,   variance=100.000000\n",
      "\n",
      "n_components= 118,   variance=100.000000\n",
      "\n",
      "n_components= 119,   variance=100.000000\n",
      "\n",
      "n_components= 120,   variance=100.000000\n",
      "\n",
      "n_components= 121,   variance=100.000000\n",
      "\n",
      "n_components= 122,   variance=100.000000\n",
      "\n",
      "n_components= 123,   variance=100.000000\n",
      "\n",
      "n_components= 124,   variance=100.000000\n",
      "\n",
      "n_components= 125,   variance=100.000000\n",
      "\n",
      "n_components= 126,   variance=100.000000\n",
      "\n",
      "n_components= 127,   variance=100.000000\n",
      "\n",
      "n_components= 128,   variance=100.000000\n",
      "\n",
      "n_components= 129,   variance=100.000000\n",
      "\n",
      "n_components= 130,   variance=100.000000\n",
      "\n",
      "n_components= 131,   variance=100.000000\n",
      "\n",
      "n_components= 132,   variance=100.000000\n",
      "\n",
      "n_components= 133,   variance=100.000000\n",
      "\n",
      "n_components= 134,   variance=100.000000\n",
      "\n",
      "n_components= 135,   variance=100.000000\n",
      "\n",
      "n_components= 136,   variance=100.000000\n",
      "\n"
     ]
    }
   ],
   "source": [
    "pca=PCA()  \n",
    "pca.n_components=len(X_train.columns)\n",
    "pca_data=pca.fit_transform(X_train)  \n",
    "# look at explainded variance of PCA components \n",
    "exp_var_cumsum=pd.Series(np.round(pca.explained_variance_ratio_.cumsum(),4)*100)  \n",
    "for index,var in enumerate(exp_var_cumsum):  \n",
    "    print('n_components= %d,   variance=%f\\n' %(index,np.round(var,3)))"
   ]
  },
  {
   "cell_type": "markdown",
   "metadata": {
    "id": "JlguyMQDn7qf"
   },
   "source": [
    "### **Uptil this point all data cleaning is done. The data will be read from csv file using spark to fit the model and see. "
   ]
  }
 ],
 "metadata": {
  "application/vnd.databricks.v1+notebook": {
   "dashboards": [],
   "language": "python",
   "notebookMetadata": {
    "pythonIndentUnit": 2
   },
   "notebookName": "BDT_Final_Project",
   "notebookOrigID": 3591683210686142,
   "widgets": {}
  },
  "colab": {
   "collapsed_sections": [],
   "name": "BDT_Final_Project (1).ipynb",
   "provenance": []
  },
  "kernelspec": {
   "display_name": "Python 3",
   "language": "python",
   "name": "python3"
  },
  "language_info": {
   "codemirror_mode": {
    "name": "ipython",
    "version": 3
   },
   "file_extension": ".py",
   "mimetype": "text/x-python",
   "name": "python",
   "nbconvert_exporter": "python",
   "pygments_lexer": "ipython3",
   "version": "3.8.3"
  }
 },
 "nbformat": 4,
 "nbformat_minor": 1
}
